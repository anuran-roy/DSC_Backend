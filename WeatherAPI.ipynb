{
 "cells": [
  {
   "cell_type": "code",
   "execution_count": 169,
   "metadata": {},
   "outputs": [],
   "source": [
    "import os\n",
    "import requests\n",
    "import json\n",
    "import datetime\n"
   ]
  },
  {
   "cell_type": "markdown",
   "metadata": {},
   "source": [
    "## Retrieve info from ipinfo.io"
   ]
  },
  {
   "cell_type": "code",
   "execution_count": 170,
   "metadata": {},
   "outputs": [],
   "source": [
    "def IPInfo():\n",
    "    resp=requests.get(\"https://ipinfo.io\")\n",
    "    info=resp.json()\n",
    "\n",
    "    return info        "
   ]
  },
  {
   "cell_type": "code",
   "execution_count": 171,
   "metadata": {
    "scrolled": true
   },
   "outputs": [
    {
     "data": {
      "text/plain": [
       "{'ip': '49.37.81.28',\n",
       " 'city': 'Chās',\n",
       " 'region': 'Jharkhand',\n",
       " 'country': 'IN',\n",
       " 'loc': '23.6356,86.1671',\n",
       " 'org': 'AS55836 Reliance Jio Infocomm Limited',\n",
       " 'postal': '827013',\n",
       " 'timezone': 'Asia/Kolkata',\n",
       " 'readme': 'https://ipinfo.io/missingauth'}"
      ]
     },
     "execution_count": 171,
     "metadata": {},
     "output_type": "execute_result"
    }
   ],
   "source": [
    "IPInfo() #print(info) #Testing"
   ]
  },
  {
   "cell_type": "code",
   "execution_count": 172,
   "metadata": {},
   "outputs": [],
   "source": [
    "def IPStack():\n",
    "\n",
    "    extip = requests.get(\"https://api.ipify.org/?format=json\").json()['ip']\n",
    "    \n",
    "    API_KEY=\"b7a24389c3cd6260626ac75b81e3f4ad\"\n",
    "    url=\"http://api.ipstack.com/\"+extip+\"?access_key=\"+API_KEY\n",
    "    resp=requests.get(url)\n",
    "    info=resp.json()\n",
    "    \n",
    "    return info"
   ]
  },
  {
   "cell_type": "code",
   "execution_count": 173,
   "metadata": {},
   "outputs": [
    {
     "data": {
      "text/plain": [
       "{'ip': '49.37.81.28',\n",
       " 'type': 'ipv4',\n",
       " 'continent_code': 'AS',\n",
       " 'continent_name': 'Asia',\n",
       " 'country_code': 'IN',\n",
       " 'country_name': 'India',\n",
       " 'region_code': 'WB',\n",
       " 'region_name': 'West Bengal',\n",
       " 'city': 'Gangajalghati',\n",
       " 'zip': '722133',\n",
       " 'latitude': 23.424299240112305,\n",
       " 'longitude': 87.11485290527344,\n",
       " 'location': {'geoname_id': None,\n",
       "  'capital': 'New Delhi',\n",
       "  'languages': [{'code': 'hi', 'name': 'Hindi', 'native': 'हिन्दी'},\n",
       "   {'code': 'en', 'name': 'English', 'native': 'English'}],\n",
       "  'country_flag': 'http://assets.ipstack.com/flags/in.svg',\n",
       "  'country_flag_emoji': '🇮🇳',\n",
       "  'country_flag_emoji_unicode': 'U+1F1EE U+1F1F3',\n",
       "  'calling_code': '91',\n",
       "  'is_eu': False}}"
      ]
     },
     "execution_count": 173,
     "metadata": {},
     "output_type": "execute_result"
    }
   ],
   "source": [
    "IPStack()"
   ]
  },
  {
   "cell_type": "markdown",
   "metadata": {},
   "source": [
    "## Function to dump received data into .json files with filenames based on date"
   ]
  },
  {
   "cell_type": "code",
   "execution_count": 174,
   "metadata": {},
   "outputs": [],
   "source": [
    "def dumpRecords(data):\n",
    "    resp=datetime.datetime.today()\n",
    "    daten=str(resp.date())\n",
    "    filename=daten+\".json\"\n",
    "    \n",
    "    fwrite=open(filename,\"w\")\n",
    "    with fwrite as data_file:\n",
    "        json.dump(data, data_file, indent=4, sort_keys=True)"
   ]
  },
  {
   "cell_type": "code",
   "execution_count": 175,
   "metadata": {},
   "outputs": [],
   "source": [
    "#dumpRecords({\"none\":\"none\"}) testing"
   ]
  },
  {
   "cell_type": "code",
   "execution_count": 176,
   "metadata": {},
   "outputs": [],
   "source": [
    "def WeatherStack():\n",
    "    prms=IPStack()\n",
    "    city=prms[\"city\"]\n",
    "    API_KEY=\"3496beff571c11542b99a0952c6d4ca4\" #API Key for WeatherStack\n",
    "    req_url=\"http://api.weatherstack.com/current?access_key=\"+API_KEY+\"&query=\"+city\n",
    "    print(req_url)\n",
    "    resp_weather=requests.get(req_url).json()\n",
    "\n",
    "    dumpRecords(resp_weather)"
   ]
  },
  {
   "cell_type": "code",
   "execution_count": 177,
   "metadata": {},
   "outputs": [],
   "source": [
    "def WeatherAPI():\n",
    "    prms=IPInfo()\n",
    "    city=prms[\"city\"]\n",
    "    API_KEY=\"ebcd32cfde464f919e3203947210101\" #API Key for WeatherAPI.com\n",
    "    req_url=\"http://api.weatherapi.com/v1/current.json?key=\"+API_KEY+\"&q=\"+city\n",
    "    print(req_url)\n",
    "    resp_weather=requests.get(req_url).json()\n",
    "\n",
    "    dumpRecords(resp_weather)"
   ]
  },
  {
   "cell_type": "code",
   "execution_count": 178,
   "metadata": {},
   "outputs": [
    {
     "name": "stdout",
     "output_type": "stream",
     "text": [
      "http://api.weatherapi.com/v1/current.json?key=ebcd32cfde464f919e3203947210101&q=Chās\n"
     ]
    }
   ],
   "source": [
    "WeatherAPI()"
   ]
  },
  {
   "cell_type": "code",
   "execution_count": 179,
   "metadata": {},
   "outputs": [
    {
     "name": "stdout",
     "output_type": "stream",
     "text": [
      "http://api.weatherstack.com/current?access_key=3496beff571c11542b99a0952c6d4ca4&query=Gangajalghati\n"
     ]
    }
   ],
   "source": [
    "WeatherStack()"
   ]
  },
  {
   "cell_type": "markdown",
   "metadata": {},
   "source": [
    "## The below program is taken from:\n",
    "\n",
    "https://bcmullins.github.io/parsing-json-python/\n",
    "\n",
    "I didn't do this myself... Not gonna lie.\n",
    "\n",
    "# UPDATE: This doesn't work. (Useless)"
   ]
  },
  {
   "cell_type": "code",
   "execution_count": 180,
   "metadata": {},
   "outputs": [],
   "source": [
    "def extract_element_from_json(obj, path):\n",
    "    '''\n",
    "    Extracts an element from a nested dictionary or\n",
    "    a list of nested dictionaries along a specified path.\n",
    "    If the input is a dictionary, a list is returned.\n",
    "    If the input is a list of dictionary, a list of lists is returned.\n",
    "    obj - list or dict - input dictionary or list of dictionaries\n",
    "    path - list - list of strings that form the path to the desired element\n",
    "    '''\n",
    "    def extract(obj, path, ind, arr):\n",
    "        '''\n",
    "            Extracts an element from a nested dictionary\n",
    "            along a specified path and returns a list.\n",
    "            obj - dict - input dictionary\n",
    "            path - list - list of strings that form the JSON path\n",
    "            ind - int - starting index\n",
    "            arr - list - output list\n",
    "        '''\n",
    "        key = path[ind]\n",
    "        if ind + 1 < len(path):\n",
    "            if isinstance(obj, dict):\n",
    "                if key in obj.keys():\n",
    "                    extract(obj.get(key), path, ind + 1, arr)\n",
    "                else:\n",
    "                    arr.append(None)\n",
    "            elif isinstance(obj, list):\n",
    "                if not obj:\n",
    "                    arr.append(None)\n",
    "                else:\n",
    "                    for item in obj:\n",
    "                        extract(item, path, ind, arr)\n",
    "            else:\n",
    "                arr.append(None)\n",
    "        if ind + 1 == len(path):\n",
    "            if isinstance(obj, list):\n",
    "                if not obj:\n",
    "                    arr.append(None)\n",
    "                else:\n",
    "                    for item in obj:\n",
    "                        arr.append(item.get(key, None))\n",
    "            elif isinstance(obj, dict):\n",
    "                arr.append(obj.get(key, None))\n",
    "            else:\n",
    "                arr.append(None)\n",
    "        return arr\n",
    "    if isinstance(obj, dict):\n",
    "        return extract(obj, path, 0, [])\n",
    "    elif isinstance(obj, list):\n",
    "        outer_arr = []\n",
    "        for item in obj:\n",
    "            outer_arr.append(extract(item, path, 0, []))\n",
    "        return outer_arr"
   ]
  },
  {
   "cell_type": "markdown",
   "metadata": {},
   "source": [
    "# This works ->"
   ]
  },
  {
   "cell_type": "code",
   "execution_count": 194,
   "metadata": {},
   "outputs": [],
   "source": [
    "resp=[]\n",
    "def getWeatherData(diction,params):\n",
    "        key=diction.keys()\n",
    "        for k in key:\n",
    "            if (type(diction[k])==type({})):\n",
    "                getWeatherData(diction[k],params)\n",
    "            elif (type(diction[k])==type([]) and k in params):\n",
    "                for e in diction[k]:\n",
    "                    print(e)\n",
    "            elif (type(diction[k])==tuple and k in params):\n",
    "                lent=len(diction[k])\n",
    "                ddll=list(diction[k])\n",
    "                for i in range(lent):\n",
    "                    print(ddll[i])\n",
    "            elif (k in params):\n",
    "                resp.append(diction[k])\n",
    "                print(diction[k])\n",
    "        \n",
    "        return resp          "
   ]
  },
  {
   "cell_type": "code",
   "execution_count": 195,
   "metadata": {},
   "outputs": [
    {
     "name": "stdout",
     "output_type": "stream",
     "text": [
      "15\n",
      "15\n",
      "[15, 15]\n"
     ]
    }
   ],
   "source": [
    "getWeatherData({\n",
    "    \"current\": {\n",
    "        \"cloudcover\": 0,\n",
    "        \"feelslike\": 15,\n",
    "        \"humidity\": 72,\n",
    "        \"is_day\": \"no\",\n",
    "        \"observation_time\": \"06:09 PM\",\n",
    "        \"precip\": 0,\n",
    "        \"pressure\": 1018,\n",
    "        \"temperature\": 15,\n",
    "        \"uv_index\": 1,\n",
    "        \"visibility\": 3,\n",
    "        \"weather_code\": 143,\n",
    "        \"weather_descriptions\": [\n",
    "            \"Haze\"\n",
    "        ],\n",
    "        \"weather_icons\": [\n",
    "            \"https://assets.weatherstack.com/images/wsymbols01_png_64/wsymbol_0006_mist.png\"\n",
    "        ],\n",
    "        \"wind_degree\": 0,\n",
    "        \"wind_dir\": \"N\",\n",
    "        \"wind_speed\": 0\n",
    "    },\n",
    "    \"location\": {\n",
    "        \"country\": \"India\",\n",
    "        \"lat\": \"23.350\",\n",
    "        \"localtime\": \"2021-01-01 23:39\",\n",
    "        \"localtime_epoch\": 1609544340,\n",
    "        \"lon\": \"85.333\",\n",
    "        \"name\": \"Ranchi\",\n",
    "        \"region\": \"Jharkhand\",\n",
    "        \"timezone_id\": \"Asia/Kolkata\",\n",
    "        \"utc_offset\": \"5.50\"\n",
    "    },\n",
    "    \"request\": {\n",
    "        \"language\": \"en\",\n",
    "        \"query\": \"Ranchi, India\",\n",
    "        \"type\": \"City\",\n",
    "        \"unit\": \"m\"\n",
    "    }\n",
    "}\n",
    ",[\"temperature\",\"feelslike\"]) #testing\n",
    "print(resp)"
   ]
  },
  {
   "cell_type": "code",
   "execution_count": 196,
   "metadata": {},
   "outputs": [
    {
     "data": {
      "text/plain": [
       "list"
      ]
     },
     "execution_count": 196,
     "metadata": {},
     "output_type": "execute_result"
    }
   ],
   "source": [
    "type([])"
   ]
  },
  {
   "cell_type": "markdown",
   "metadata": {},
   "source": [
    "## Here on, I made all myself again"
   ]
  },
  {
   "cell_type": "code",
   "execution_count": 197,
   "metadata": {},
   "outputs": [],
   "source": [
    "def accessWeather(datetm,params=[\"temperature\",\"feelslike\",\"humidity\",\"precip\"]):\n",
    "    datem=datetm+\".json\"\n",
    "    print(datem)\n",
    "    if os.path.exists(datem):\n",
    "        fread=open(datem,\"r\")\n",
    "        data=fread.read()\n",
    "        data=json.loads(data)\n",
    "        lst=getWeatherData(data,params)\n",
    "        \n",
    "        return lst\n",
    "    else:\n",
    "        print(\"Date not found!\")"
   ]
  },
  {
   "cell_type": "code",
   "execution_count": 198,
   "metadata": {},
   "outputs": [],
   "source": [
    "def prevData():\n",
    "\n",
    "    d=input(\"Enter day:\")\n",
    "    m=input(\"Enter month:\")\n",
    "    if int(d)<10:\n",
    "        d=\"0\"+d\n",
    "    if int(m)<10:\n",
    "        m=\"0\"+m    \n",
    "    y=input(\"Enter year:\")\n",
    "    dtm= y + \"-\" + m + \"-\" + d\n",
    "\n",
    "    accessWeather(dtm)"
   ]
  },
  {
   "cell_type": "code",
   "execution_count": 199,
   "metadata": {},
   "outputs": [
    {
     "name": "stdout",
     "output_type": "stream",
     "text": [
      "Enter day:1\n",
      "Enter month:1\n",
      "Enter year:2021\n",
      "2021-01-01.json\n",
      "15\n",
      "72\n",
      "0\n",
      "15\n"
     ]
    }
   ],
   "source": [
    "prevData()"
   ]
  },
  {
   "cell_type": "code",
   "execution_count": 200,
   "metadata": {},
   "outputs": [
    {
     "name": "stdout",
     "output_type": "stream",
     "text": [
      "2021-01-01.json\n",
      "15\n",
      "72\n",
      "0\n",
      "15\n"
     ]
    },
    {
     "data": {
      "text/plain": [
       "[15, 15, 15, 72, 0, 15, 15, 72, 0, 15]"
      ]
     },
     "execution_count": 200,
     "metadata": {},
     "output_type": "execute_result"
    }
   ],
   "source": [
    "accessWeather(\"2021-01-01\")"
   ]
  },
  {
   "cell_type": "code",
   "execution_count": 191,
   "metadata": {},
   "outputs": [
    {
     "ename": "SyntaxError",
     "evalue": "unexpected EOF while parsing (<ipython-input-191-44b4fbd073c0>, line 2)",
     "output_type": "error",
     "traceback": [
      "\u001b[0;36m  File \u001b[0;32m\"<ipython-input-191-44b4fbd073c0>\"\u001b[0;36m, line \u001b[0;32m2\u001b[0m\n\u001b[0;31m    \u001b[0m\n\u001b[0m    ^\u001b[0m\n\u001b[0;31mSyntaxError\u001b[0m\u001b[0;31m:\u001b[0m unexpected EOF while parsing\n"
     ]
    }
   ],
   "source": [
    "def API():\n",
    "    "
   ]
  },
  {
   "cell_type": "markdown",
   "metadata": {},
   "source": [
    "## Main interface:"
   ]
  },
  {
   "cell_type": "code",
   "execution_count": null,
   "metadata": {},
   "outputs": [],
   "source": []
  }
 ],
 "metadata": {
  "kernelspec": {
   "display_name": "Python 3",
   "language": "python",
   "name": "python3"
  },
  "language_info": {
   "codemirror_mode": {
    "name": "ipython",
    "version": 3
   },
   "file_extension": ".py",
   "mimetype": "text/x-python",
   "name": "python",
   "nbconvert_exporter": "python",
   "pygments_lexer": "ipython3",
   "version": "3.8.6"
  }
 },
 "nbformat": 4,
 "nbformat_minor": 4
}
